{
 "cells": [
  {
   "cell_type": "markdown",
   "metadata": {},
   "source": [
    "## Equal Weight Screener\n",
    "In this we'll be weighting each company in the S&P 500 equally"
   ]
  },
  {
   "cell_type": "code",
   "execution_count": 1,
   "metadata": {},
   "outputs": [],
   "source": [
    "import numpy as np\n",
    "import pandas as pd\n",
    "import requests\n",
    "import xlsxwriter\n",
    "import math"
   ]
  },
  {
   "cell_type": "code",
   "execution_count": 2,
   "metadata": {},
   "outputs": [],
   "source": [
    "stocks = pd.read_csv('sp_500_stocks.csv')"
   ]
  },
  {
   "cell_type": "code",
   "execution_count": 3,
   "metadata": {},
   "outputs": [],
   "source": [
    "from secrets import IEX_CLOUD_API_TOKEN"
   ]
  },
  {
   "cell_type": "code",
   "execution_count": 13,
   "metadata": {},
   "outputs": [
    {
     "name": "stdout",
     "output_type": "stream",
     "text": [
      "{'symbol': 'AAPL', 'companyName': 'Apple Inc', 'primaryExchange': 'ALSNEENAGD(T/R KTSA OEMGBLSQ )LCA', 'calculationPrice': 'close', 'open': 141.4, 'openTime': 1675719769485, 'openSource': 'flaicofi', 'close': 133.91, 'closeTime': 1686799018809, 'closeSource': 'afolfici', 'high': 141.5, 'highTime': 1674346471787, 'highSource': 'etprac enud  il5y1eimde', 'low': 135.27, 'lowTime': 1656239378792, 'lowSource': 'deudee epainci l1 mtyr5', 'latestPrice': 134.67, 'latestSource': 'Close', 'latestTime': 'January 29, 2021', 'latestUpdate': 1627004022521, 'latestVolume': 185737426, 'iexRealtimePrice': None, 'iexRealtimeSize': None, 'iexLastUpdated': None, 'delayedPrice': 132.37, 'delayedPriceTime': 1642681781073, 'oddLotDelayedPrice': 136.87, 'oddLotDelayedPriceTime': 1662573658018, 'extendedPrice': 133.98, 'extendedChange': -0.18, 'extendedChangePercent': -0.00141, 'extendedPriceTime': 1655886957889, 'previousClose': 138.26, 'previousVolume': 146235479, 'change': -5.2, 'changePercent': -0.03757, 'volume': 180304490, 'iexMarketPercent': None, 'iexVolume': None, 'avgTotalVolume': 121468606, 'iexBidPrice': None, 'iexBidSize': None, 'iexAskPrice': None, 'iexAskSize': None, 'iexOpen': 133.83, 'iexOpenTime': 1614179405329, 'iexClose': 133.12, 'iexCloseTime': 1658041122513, 'marketCap': 2269958387880, 'peRatio': 37.5, 'week52High': 146.86, 'week52Low': 55.88, 'ytdChange': -0.04504147727625414, 'lastTradeTime': 1642887143143, 'isUSMarketOpen': False}\n"
     ]
    }
   ],
   "source": [
    "symbol =  'AAPL'\n",
    "api_url = f'https://sandbox.iexapis.com/stable/stock/{symbol}/quote/?token={IEX_CLOUD_API_TOKEN}'\n",
    "data = requests.get(api_url).json()"
   ]
  },
  {
   "cell_type": "code",
   "execution_count": 27,
   "metadata": {},
   "outputs": [
    {
     "data": {
      "text/html": [
       "<div>\n",
       "<style scoped>\n",
       "    .dataframe tbody tr th:only-of-type {\n",
       "        vertical-align: middle;\n",
       "    }\n",
       "\n",
       "    .dataframe tbody tr th {\n",
       "        vertical-align: top;\n",
       "    }\n",
       "\n",
       "    .dataframe thead th {\n",
       "        text-align: right;\n",
       "    }\n",
       "</style>\n",
       "<table border=\"1\" class=\"dataframe\">\n",
       "  <thead>\n",
       "    <tr style=\"text-align: right;\">\n",
       "      <th></th>\n",
       "      <th>Ticker</th>\n",
       "      <th>Stock Price (USD)</th>\n",
       "      <th>Market Capitalization</th>\n",
       "      <th>Number of Shares to Buy</th>\n",
       "    </tr>\n",
       "  </thead>\n",
       "  <tbody>\n",
       "  </tbody>\n",
       "</table>\n",
       "</div>"
      ],
      "text/plain": [
       "Empty DataFrame\n",
       "Columns: [Ticker, Stock Price (USD), Market Capitalization, Number of Shares to Buy]\n",
       "Index: []"
      ]
     },
     "execution_count": 27,
     "metadata": {},
     "output_type": "execute_result"
    }
   ],
   "source": [
    "columns = ['Ticker', 'Stock Price (USD)', 'Market Capitalization','Number of Shares to Buy']\n",
    "finalDataframe = pd.DataFrame(columns = columns)"
   ]
  },
  {
   "cell_type": "code",
   "execution_count": 38,
   "metadata": {},
   "outputs": [],
   "source": [
    "finalDataframe = pd.DataFrame(columns = columns)\n",
    "for stock in stocks['Ticker']:\n",
    "    api_url = f'https://sandbox.iexapis.com/stable/stock/{stock}/quote/?token={IEX_CLOUD_API_TOKEN}'\n",
    "    data = requests.get(api_url).json()\n",
    "    finalDataframe = finalDataframe.append(\n",
    "        pd.Series(\n",
    "        [\n",
    "            stock,\n",
    "            data['latestPrice'],\n",
    "            data['marketCap'],\n",
    "            'N/A'\n",
    "        ],\n",
    "        index = columns\n",
    "        ),\n",
    "    ignore_index = True\n",
    "    )\n",
    "#endfor"
   ]
  },
  {
   "cell_type": "code",
   "execution_count": 39,
   "metadata": {},
   "outputs": [
    {
     "data": {
      "text/html": [
       "<div>\n",
       "<style scoped>\n",
       "    .dataframe tbody tr th:only-of-type {\n",
       "        vertical-align: middle;\n",
       "    }\n",
       "\n",
       "    .dataframe tbody tr th {\n",
       "        vertical-align: top;\n",
       "    }\n",
       "\n",
       "    .dataframe thead th {\n",
       "        text-align: right;\n",
       "    }\n",
       "</style>\n",
       "<table border=\"1\" class=\"dataframe\">\n",
       "  <thead>\n",
       "    <tr style=\"text-align: right;\">\n",
       "      <th></th>\n",
       "      <th>Ticker</th>\n",
       "      <th>Stock Price (USD)</th>\n",
       "      <th>Market Capitalization</th>\n",
       "      <th>Number of Shares to Buy</th>\n",
       "    </tr>\n",
       "  </thead>\n",
       "  <tbody>\n",
       "    <tr>\n",
       "      <th>0</th>\n",
       "      <td>A</td>\n",
       "      <td>122.27</td>\n",
       "      <td>37162240337</td>\n",
       "      <td>N/A</td>\n",
       "    </tr>\n",
       "    <tr>\n",
       "      <th>1</th>\n",
       "      <td>AAL</td>\n",
       "      <td>17.63</td>\n",
       "      <td>10836828512</td>\n",
       "      <td>N/A</td>\n",
       "    </tr>\n",
       "    <tr>\n",
       "      <th>2</th>\n",
       "      <td>AAP</td>\n",
       "      <td>150.18</td>\n",
       "      <td>10152171266</td>\n",
       "      <td>N/A</td>\n",
       "    </tr>\n",
       "    <tr>\n",
       "      <th>3</th>\n",
       "      <td>AAPL</td>\n",
       "      <td>138.39</td>\n",
       "      <td>2312338866250</td>\n",
       "      <td>N/A</td>\n",
       "    </tr>\n",
       "    <tr>\n",
       "      <th>4</th>\n",
       "      <td>ABBV</td>\n",
       "      <td>103.71</td>\n",
       "      <td>189335356276</td>\n",
       "      <td>N/A</td>\n",
       "    </tr>\n",
       "    <tr>\n",
       "      <th>...</th>\n",
       "      <td>...</td>\n",
       "      <td>...</td>\n",
       "      <td>...</td>\n",
       "      <td>...</td>\n",
       "    </tr>\n",
       "    <tr>\n",
       "      <th>500</th>\n",
       "      <td>YUM</td>\n",
       "      <td>104.41</td>\n",
       "      <td>31847709451</td>\n",
       "      <td>N/A</td>\n",
       "    </tr>\n",
       "    <tr>\n",
       "      <th>501</th>\n",
       "      <td>ZBH</td>\n",
       "      <td>157.18</td>\n",
       "      <td>31957545495</td>\n",
       "      <td>N/A</td>\n",
       "    </tr>\n",
       "    <tr>\n",
       "      <th>502</th>\n",
       "      <td>ZBRA</td>\n",
       "      <td>400.62</td>\n",
       "      <td>21468189500</td>\n",
       "      <td>N/A</td>\n",
       "    </tr>\n",
       "    <tr>\n",
       "      <th>503</th>\n",
       "      <td>ZION</td>\n",
       "      <td>45.84</td>\n",
       "      <td>7250211902</td>\n",
       "      <td>N/A</td>\n",
       "    </tr>\n",
       "    <tr>\n",
       "      <th>504</th>\n",
       "      <td>ZTS</td>\n",
       "      <td>159.94</td>\n",
       "      <td>74002453186</td>\n",
       "      <td>N/A</td>\n",
       "    </tr>\n",
       "  </tbody>\n",
       "</table>\n",
       "<p>505 rows × 4 columns</p>\n",
       "</div>"
      ],
      "text/plain": [
       "    Ticker  Stock Price (USD) Market Capitalization Number of Shares to Buy\n",
       "0        A             122.27           37162240337                     N/A\n",
       "1      AAL              17.63           10836828512                     N/A\n",
       "2      AAP             150.18           10152171266                     N/A\n",
       "3     AAPL             138.39         2312338866250                     N/A\n",
       "4     ABBV             103.71          189335356276                     N/A\n",
       "..     ...                ...                   ...                     ...\n",
       "500    YUM             104.41           31847709451                     N/A\n",
       "501    ZBH             157.18           31957545495                     N/A\n",
       "502   ZBRA             400.62           21468189500                     N/A\n",
       "503   ZION              45.84            7250211902                     N/A\n",
       "504    ZTS             159.94           74002453186                     N/A\n",
       "\n",
       "[505 rows x 4 columns]"
      ]
     },
     "execution_count": 39,
     "metadata": {},
     "output_type": "execute_result"
    }
   ],
   "source": [
    "finalDataframe"
   ]
  },
  {
   "cell_type": "code",
   "execution_count": 125,
   "metadata": {},
   "outputs": [],
   "source": [
    "def chunks(lst, n):\n",
    "    \"\"\"Yield successive n-sized chunks from list\"\"\"\n",
    "    for i in range(0,len(lst),n):\n",
    "        yield lst[i:i+n]"
   ]
  },
  {
   "cell_type": "code",
   "execution_count": 126,
   "metadata": {},
   "outputs": [
    {
     "data": {
      "text/html": [
       "<div>\n",
       "<style scoped>\n",
       "    .dataframe tbody tr th:only-of-type {\n",
       "        vertical-align: middle;\n",
       "    }\n",
       "\n",
       "    .dataframe tbody tr th {\n",
       "        vertical-align: top;\n",
       "    }\n",
       "\n",
       "    .dataframe thead th {\n",
       "        text-align: right;\n",
       "    }\n",
       "</style>\n",
       "<table border=\"1\" class=\"dataframe\">\n",
       "  <thead>\n",
       "    <tr style=\"text-align: right;\">\n",
       "      <th></th>\n",
       "      <th>Ticker</th>\n",
       "      <th>Stock Price (USD)</th>\n",
       "      <th>Market Capitalization</th>\n",
       "      <th>Number of Shares to Buy</th>\n",
       "    </tr>\n",
       "  </thead>\n",
       "  <tbody>\n",
       "    <tr>\n",
       "      <th>0</th>\n",
       "      <td>A</td>\n",
       "      <td>121.07</td>\n",
       "      <td>36985821272</td>\n",
       "      <td>N/A</td>\n",
       "    </tr>\n",
       "    <tr>\n",
       "      <th>1</th>\n",
       "      <td>AAL</td>\n",
       "      <td>17.36</td>\n",
       "      <td>10542738127</td>\n",
       "      <td>N/A</td>\n",
       "    </tr>\n",
       "    <tr>\n",
       "      <th>2</th>\n",
       "      <td>AAP</td>\n",
       "      <td>153.30</td>\n",
       "      <td>10456714057</td>\n",
       "      <td>N/A</td>\n",
       "    </tr>\n",
       "    <tr>\n",
       "      <th>3</th>\n",
       "      <td>AAPL</td>\n",
       "      <td>133.93</td>\n",
       "      <td>2248931208337</td>\n",
       "      <td>N/A</td>\n",
       "    </tr>\n",
       "    <tr>\n",
       "      <th>4</th>\n",
       "      <td>ABBV</td>\n",
       "      <td>104.07</td>\n",
       "      <td>185553464391</td>\n",
       "      <td>N/A</td>\n",
       "    </tr>\n",
       "    <tr>\n",
       "      <th>...</th>\n",
       "      <td>...</td>\n",
       "      <td>...</td>\n",
       "      <td>...</td>\n",
       "      <td>...</td>\n",
       "    </tr>\n",
       "    <tr>\n",
       "      <th>500</th>\n",
       "      <td>YUM</td>\n",
       "      <td>104.21</td>\n",
       "      <td>31714851484</td>\n",
       "      <td>N/A</td>\n",
       "    </tr>\n",
       "    <tr>\n",
       "      <th>501</th>\n",
       "      <td>ZBH</td>\n",
       "      <td>154.81</td>\n",
       "      <td>31955853162</td>\n",
       "      <td>N/A</td>\n",
       "    </tr>\n",
       "    <tr>\n",
       "      <th>502</th>\n",
       "      <td>ZBRA</td>\n",
       "      <td>393.65</td>\n",
       "      <td>20842480597</td>\n",
       "      <td>N/A</td>\n",
       "    </tr>\n",
       "    <tr>\n",
       "      <th>503</th>\n",
       "      <td>ZION</td>\n",
       "      <td>44.18</td>\n",
       "      <td>7321670251</td>\n",
       "      <td>N/A</td>\n",
       "    </tr>\n",
       "    <tr>\n",
       "      <th>504</th>\n",
       "      <td>ZTS</td>\n",
       "      <td>157.30</td>\n",
       "      <td>76556819501</td>\n",
       "      <td>N/A</td>\n",
       "    </tr>\n",
       "  </tbody>\n",
       "</table>\n",
       "<p>505 rows × 4 columns</p>\n",
       "</div>"
      ],
      "text/plain": [
       "    Ticker  Stock Price (USD) Market Capitalization Number of Shares to Buy\n",
       "0        A             121.07           36985821272                     N/A\n",
       "1      AAL              17.36           10542738127                     N/A\n",
       "2      AAP             153.30           10456714057                     N/A\n",
       "3     AAPL             133.93         2248931208337                     N/A\n",
       "4     ABBV             104.07          185553464391                     N/A\n",
       "..     ...                ...                   ...                     ...\n",
       "500    YUM             104.21           31714851484                     N/A\n",
       "501    ZBH             154.81           31955853162                     N/A\n",
       "502   ZBRA             393.65           20842480597                     N/A\n",
       "503   ZION              44.18            7321670251                     N/A\n",
       "504    ZTS             157.30           76556819501                     N/A\n",
       "\n",
       "[505 rows x 4 columns]"
      ]
     },
     "execution_count": 126,
     "metadata": {},
     "output_type": "execute_result"
    }
   ],
   "source": [
    "symbolGroups = list(chunks(stocks['Ticker'],100))\n",
    "symbolStrings = []\n",
    "for i in range(0,len(symbolGroups)):\n",
    "    symbolStrings.append(','.join(symbolGroups[i]))\n",
    "finalDataframe = pd.DataFrame(columns=columns)\n",
    "\n",
    "for symbolString in symbolStrings:\n",
    "    batchApiCallUrl = f'https://sandbox.iexapis.com/stable/stock/market/batch?symbols={symbolString}&types=quote&token={IEX_CLOUD_API_TOKEN}'\n",
    "    data = requests.get(batchApiCallUrl).json()\n",
    "    for symbol in symbolString.split(','):\n",
    "        finalDataframe = finalDataframe.append(\n",
    "            pd.Series(\n",
    "            [\n",
    "                symbol,\n",
    "                data[symbol]['quote']['latestPrice'],\n",
    "                data[symbol]['quote']['marketCap'],\n",
    "                'N/A'\n",
    "            ],\n",
    "            index = columns\n",
    "            ),\n",
    "            ignore_index = True\n",
    "        )\n",
    "finalDataframe"
   ]
  },
  {
   "cell_type": "code",
   "execution_count": 127,
   "metadata": {},
   "outputs": [
    {
     "name": "stdout",
     "output_type": "stream",
     "text": [
      "Enter value of your portfolio:10000000\n",
      "10000000.0\n"
     ]
    }
   ],
   "source": [
    "portfolioSize = float(input('Enter value of your portfolio:'))\n",
    "try:\n",
    "    val = float(portfolioSize)\n",
    "    print(val)\n",
    "except ValueError:\n",
    "    print(\"That's not a number.\\nPlease try again.\")\n",
    "    print('Please enter an integer.')"
   ]
  },
  {
   "cell_type": "code",
   "execution_count": 146,
   "metadata": {},
   "outputs": [],
   "source": [
    "positionSize = val/len(finalDataframe.index)\n",
    "for i in range(0, len(finalDataframe.index)):\n",
    "    finalDataframe.loc[i, 'Number of Shares to Buy'] = math.floor(portfolioSize / finalDataframe.loc[i, 'Stock Price (USD)'])"
   ]
  },
  {
   "cell_type": "code",
   "execution_count": 147,
   "metadata": {},
   "outputs": [],
   "source": [
    "writer = pd.ExcelWriter('recommended trades.xlsx',engine = 'xlsxwriter')\n",
    "finalDataframe.to_excel(writer, \"Recommended Trades\", index = False)"
   ]
  },
  {
   "cell_type": "code",
   "execution_count": 148,
   "metadata": {},
   "outputs": [],
   "source": [
    "background_color = '#0a0a23'\n",
    "font_color = '#ffffff'\n",
    "\n",
    "string_format = writer.book.add_format(\n",
    "    {\n",
    "        'font_color':font_color,\n",
    "        'bg_color':background_color,\n",
    "        'border':1\n",
    "    }\n",
    ")\n",
    "\n",
    "dollar_format = writer.book.add_format(\n",
    "    {\n",
    "        'num_format':'$0.00',\n",
    "        'font_color':font_color,\n",
    "        'bg_color':background_color,\n",
    "        'border':1\n",
    "    }\n",
    ")\n",
    "\n",
    "integer_format = writer.book.add_format(\n",
    "    {\n",
    "        'num_format':'0',\n",
    "        'font_color':font_color,\n",
    "        'bg_color':background_color,\n",
    "        'border':1\n",
    "    }\n",
    ")"
   ]
  },
  {
   "cell_type": "code",
   "execution_count": 149,
   "metadata": {},
   "outputs": [
    {
     "data": {
      "text/plain": [
       "0"
      ]
     },
     "execution_count": 149,
     "metadata": {},
     "output_type": "execute_result"
    }
   ],
   "source": [
    "#writer.sheets['Recommended Trades'].set_column('A:A',18, string_format)\n",
    "#writer.sheets['Recommended Trades'].set_column('B:B',18, string_format)\n",
    "#writer.sheets['Recommended Trades'].set_column('C:C',18, string_format)\n",
    "#writer.sheets['Recommended Trades'].set_column('D:D',18, string_format)\n",
    "#writer.save()\n",
    "\n",
    "writer.sheets['Recommended Trades'].write('A1','Ticker',string_format)\n",
    "writer.sheets['Recommended Trades'].write('B1','Stock Price (USD)',dollar_format)\n",
    "writer.sheets['Recommended Trades'].write('C1','Market Capitalization',dollar_format)\n",
    "writer.sheets['Recommended Trades'].write('D1','Number of Shares to Buy',integer_format)"
   ]
  },
  {
   "cell_type": "code",
   "execution_count": 150,
   "metadata": {},
   "outputs": [],
   "source": [
    "column_formats = {\n",
    "    'A': ['Ticker', string_format],\n",
    "    'B': ['Stock Price (USD)', dollar_format],\n",
    "    'C': ['Market Capitalization', dollar_format],\n",
    "    'C': ['Number of Share to Buy', integer_format]\n",
    "}\n",
    "\n",
    "for column in column_formats.keys():\n",
    "    writer.sheets['Recommended Trades'].set_column(f'{column}:{column}',18,column_formats[column][1])\n",
    "    writer.sheets['Recommended Trades'].write(f'{column}1',column_formats[column][0],column_formats[column][1])\n",
    "writer.save()"
   ]
  },
  {
   "cell_type": "code",
   "execution_count": null,
   "metadata": {},
   "outputs": [],
   "source": []
  },
  {
   "cell_type": "code",
   "execution_count": null,
   "metadata": {},
   "outputs": [],
   "source": []
  },
  {
   "cell_type": "code",
   "execution_count": null,
   "metadata": {},
   "outputs": [],
   "source": []
  }
 ],
 "metadata": {
  "kernelspec": {
   "display_name": "Python 3",
   "language": "python",
   "name": "python3"
  },
  "language_info": {
   "codemirror_mode": {
    "name": "ipython",
    "version": 3
   },
   "file_extension": ".py",
   "mimetype": "text/x-python",
   "name": "python",
   "nbconvert_exporter": "python",
   "pygments_lexer": "ipython3",
   "version": "3.8.5"
  }
 },
 "nbformat": 4,
 "nbformat_minor": 4
}
